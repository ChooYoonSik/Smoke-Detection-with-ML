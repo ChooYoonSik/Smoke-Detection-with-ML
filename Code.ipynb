{
  "nbformat": 4,
  "nbformat_minor": 0,
  "metadata": {
    "colab": {
      "name": "project2완성직전.ipynb",
      "provenance": []
    },
    "kernelspec": {
      "name": "python3",
      "display_name": "Python 3"
    },
    "language_info": {
      "name": "python"
    }
  },
  "cells": [
    {
      "cell_type": "markdown",
      "source": [
        "# 데이터 불러오기"
      ],
      "metadata": {
        "id": "kA2kWYRgZxan"
      }
    },
    {
      "cell_type": "code",
      "source": [
        "!pip install pandas-profiling==3.1.0\n",
        "!pip install category_encoders"
      ],
      "metadata": {
        "id": "Lt7Jy8IkdpdP"
      },
      "execution_count": null,
      "outputs": []
    },
    {
      "cell_type": "code",
      "source": [
        "# import warnings\n",
        "# warnings.filterwarnings(action='ignore')"
      ],
      "metadata": {
        "id": "p-EdJ1bJ-mtM"
      },
      "execution_count": null,
      "outputs": []
    },
    {
      "cell_type": "code",
      "execution_count": null,
      "metadata": {
        "colab": {
          "base_uri": "https://localhost:8080/"
        },
        "id": "Zaf7S65H8YZh",
        "outputId": "75ed531e-fe93-4628-f429-7b999ed13eaf"
      },
      "outputs": [
        {
          "output_type": "stream",
          "name": "stdout",
          "text": [
            "Mounted at /content/drive\n"
          ]
        }
      ],
      "source": [
        "from google.colab import drive\n",
        "drive.mount('/content/drive')"
      ]
    },
    {
      "cell_type": "code",
      "source": [
        "import pandas as pd\n",
        "import numpy as np\n",
        "import seaborn as sns"
      ],
      "metadata": {
        "id": "17pjF9fjEDbx"
      },
      "execution_count": null,
      "outputs": []
    },
    {
      "cell_type": "code",
      "source": [
        "df = pd.read_csv('/content/drive/MyDrive/project2/smoking.csv')"
      ],
      "metadata": {
        "id": "EFe1N6kDEDZu"
      },
      "execution_count": null,
      "outputs": []
    },
    {
      "cell_type": "code",
      "source": [
        "df.head()"
      ],
      "metadata": {
        "colab": {
          "base_uri": "https://localhost:8080/",
          "height": 236
        },
        "id": "Yqzjbw3AEDX2",
        "outputId": "d7c2a697-2465-43f3-fd35-7a9eaaa61681"
      },
      "execution_count": null,
      "outputs": [
        {
          "output_type": "execute_result",
          "data": {
            "text/plain": [
              "   ID gender  age  height(cm)  weight(kg)  waist(cm)  eyesight(left)  \\\n",
              "0   0      F   40         155          60       81.3             1.2   \n",
              "1   1      F   40         160          60       81.0             0.8   \n",
              "2   2      M   55         170          60       80.0             0.8   \n",
              "3   3      M   40         165          70       88.0             1.5   \n",
              "4   4      F   40         155          60       86.0             1.0   \n",
              "\n",
              "   eyesight(right)  hearing(left)  hearing(right)  ...  hemoglobin  \\\n",
              "0              1.0            1.0             1.0  ...        12.9   \n",
              "1              0.6            1.0             1.0  ...        12.7   \n",
              "2              0.8            1.0             1.0  ...        15.8   \n",
              "3              1.5            1.0             1.0  ...        14.7   \n",
              "4              1.0            1.0             1.0  ...        12.5   \n",
              "\n",
              "   Urine protein  serum creatinine   AST   ALT   Gtp  oral  dental caries  \\\n",
              "0            1.0               0.7  18.0  19.0  27.0     Y              0   \n",
              "1            1.0               0.6  22.0  19.0  18.0     Y              0   \n",
              "2            1.0               1.0  21.0  16.0  22.0     Y              0   \n",
              "3            1.0               1.0  19.0  26.0  18.0     Y              0   \n",
              "4            1.0               0.6  16.0  14.0  22.0     Y              0   \n",
              "\n",
              "   tartar  smoking  \n",
              "0       Y        0  \n",
              "1       Y        0  \n",
              "2       N        1  \n",
              "3       Y        0  \n",
              "4       N        0  \n",
              "\n",
              "[5 rows x 27 columns]"
            ],
            "text/html": [
              "\n",
              "  <div id=\"df-2415c6f9-7513-4752-b265-4480c5935ba9\">\n",
              "    <div class=\"colab-df-container\">\n",
              "      <div>\n",
              "<style scoped>\n",
              "    .dataframe tbody tr th:only-of-type {\n",
              "        vertical-align: middle;\n",
              "    }\n",
              "\n",
              "    .dataframe tbody tr th {\n",
              "        vertical-align: top;\n",
              "    }\n",
              "\n",
              "    .dataframe thead th {\n",
              "        text-align: right;\n",
              "    }\n",
              "</style>\n",
              "<table border=\"1\" class=\"dataframe\">\n",
              "  <thead>\n",
              "    <tr style=\"text-align: right;\">\n",
              "      <th></th>\n",
              "      <th>ID</th>\n",
              "      <th>gender</th>\n",
              "      <th>age</th>\n",
              "      <th>height(cm)</th>\n",
              "      <th>weight(kg)</th>\n",
              "      <th>waist(cm)</th>\n",
              "      <th>eyesight(left)</th>\n",
              "      <th>eyesight(right)</th>\n",
              "      <th>hearing(left)</th>\n",
              "      <th>hearing(right)</th>\n",
              "      <th>...</th>\n",
              "      <th>hemoglobin</th>\n",
              "      <th>Urine protein</th>\n",
              "      <th>serum creatinine</th>\n",
              "      <th>AST</th>\n",
              "      <th>ALT</th>\n",
              "      <th>Gtp</th>\n",
              "      <th>oral</th>\n",
              "      <th>dental caries</th>\n",
              "      <th>tartar</th>\n",
              "      <th>smoking</th>\n",
              "    </tr>\n",
              "  </thead>\n",
              "  <tbody>\n",
              "    <tr>\n",
              "      <th>0</th>\n",
              "      <td>0</td>\n",
              "      <td>F</td>\n",
              "      <td>40</td>\n",
              "      <td>155</td>\n",
              "      <td>60</td>\n",
              "      <td>81.3</td>\n",
              "      <td>1.2</td>\n",
              "      <td>1.0</td>\n",
              "      <td>1.0</td>\n",
              "      <td>1.0</td>\n",
              "      <td>...</td>\n",
              "      <td>12.9</td>\n",
              "      <td>1.0</td>\n",
              "      <td>0.7</td>\n",
              "      <td>18.0</td>\n",
              "      <td>19.0</td>\n",
              "      <td>27.0</td>\n",
              "      <td>Y</td>\n",
              "      <td>0</td>\n",
              "      <td>Y</td>\n",
              "      <td>0</td>\n",
              "    </tr>\n",
              "    <tr>\n",
              "      <th>1</th>\n",
              "      <td>1</td>\n",
              "      <td>F</td>\n",
              "      <td>40</td>\n",
              "      <td>160</td>\n",
              "      <td>60</td>\n",
              "      <td>81.0</td>\n",
              "      <td>0.8</td>\n",
              "      <td>0.6</td>\n",
              "      <td>1.0</td>\n",
              "      <td>1.0</td>\n",
              "      <td>...</td>\n",
              "      <td>12.7</td>\n",
              "      <td>1.0</td>\n",
              "      <td>0.6</td>\n",
              "      <td>22.0</td>\n",
              "      <td>19.0</td>\n",
              "      <td>18.0</td>\n",
              "      <td>Y</td>\n",
              "      <td>0</td>\n",
              "      <td>Y</td>\n",
              "      <td>0</td>\n",
              "    </tr>\n",
              "    <tr>\n",
              "      <th>2</th>\n",
              "      <td>2</td>\n",
              "      <td>M</td>\n",
              "      <td>55</td>\n",
              "      <td>170</td>\n",
              "      <td>60</td>\n",
              "      <td>80.0</td>\n",
              "      <td>0.8</td>\n",
              "      <td>0.8</td>\n",
              "      <td>1.0</td>\n",
              "      <td>1.0</td>\n",
              "      <td>...</td>\n",
              "      <td>15.8</td>\n",
              "      <td>1.0</td>\n",
              "      <td>1.0</td>\n",
              "      <td>21.0</td>\n",
              "      <td>16.0</td>\n",
              "      <td>22.0</td>\n",
              "      <td>Y</td>\n",
              "      <td>0</td>\n",
              "      <td>N</td>\n",
              "      <td>1</td>\n",
              "    </tr>\n",
              "    <tr>\n",
              "      <th>3</th>\n",
              "      <td>3</td>\n",
              "      <td>M</td>\n",
              "      <td>40</td>\n",
              "      <td>165</td>\n",
              "      <td>70</td>\n",
              "      <td>88.0</td>\n",
              "      <td>1.5</td>\n",
              "      <td>1.5</td>\n",
              "      <td>1.0</td>\n",
              "      <td>1.0</td>\n",
              "      <td>...</td>\n",
              "      <td>14.7</td>\n",
              "      <td>1.0</td>\n",
              "      <td>1.0</td>\n",
              "      <td>19.0</td>\n",
              "      <td>26.0</td>\n",
              "      <td>18.0</td>\n",
              "      <td>Y</td>\n",
              "      <td>0</td>\n",
              "      <td>Y</td>\n",
              "      <td>0</td>\n",
              "    </tr>\n",
              "    <tr>\n",
              "      <th>4</th>\n",
              "      <td>4</td>\n",
              "      <td>F</td>\n",
              "      <td>40</td>\n",
              "      <td>155</td>\n",
              "      <td>60</td>\n",
              "      <td>86.0</td>\n",
              "      <td>1.0</td>\n",
              "      <td>1.0</td>\n",
              "      <td>1.0</td>\n",
              "      <td>1.0</td>\n",
              "      <td>...</td>\n",
              "      <td>12.5</td>\n",
              "      <td>1.0</td>\n",
              "      <td>0.6</td>\n",
              "      <td>16.0</td>\n",
              "      <td>14.0</td>\n",
              "      <td>22.0</td>\n",
              "      <td>Y</td>\n",
              "      <td>0</td>\n",
              "      <td>N</td>\n",
              "      <td>0</td>\n",
              "    </tr>\n",
              "  </tbody>\n",
              "</table>\n",
              "<p>5 rows × 27 columns</p>\n",
              "</div>\n",
              "      <button class=\"colab-df-convert\" onclick=\"convertToInteractive('df-2415c6f9-7513-4752-b265-4480c5935ba9')\"\n",
              "              title=\"Convert this dataframe to an interactive table.\"\n",
              "              style=\"display:none;\">\n",
              "        \n",
              "  <svg xmlns=\"http://www.w3.org/2000/svg\" height=\"24px\"viewBox=\"0 0 24 24\"\n",
              "       width=\"24px\">\n",
              "    <path d=\"M0 0h24v24H0V0z\" fill=\"none\"/>\n",
              "    <path d=\"M18.56 5.44l.94 2.06.94-2.06 2.06-.94-2.06-.94-.94-2.06-.94 2.06-2.06.94zm-11 1L8.5 8.5l.94-2.06 2.06-.94-2.06-.94L8.5 2.5l-.94 2.06-2.06.94zm10 10l.94 2.06.94-2.06 2.06-.94-2.06-.94-.94-2.06-.94 2.06-2.06.94z\"/><path d=\"M17.41 7.96l-1.37-1.37c-.4-.4-.92-.59-1.43-.59-.52 0-1.04.2-1.43.59L10.3 9.45l-7.72 7.72c-.78.78-.78 2.05 0 2.83L4 21.41c.39.39.9.59 1.41.59.51 0 1.02-.2 1.41-.59l7.78-7.78 2.81-2.81c.8-.78.8-2.07 0-2.86zM5.41 20L4 18.59l7.72-7.72 1.47 1.35L5.41 20z\"/>\n",
              "  </svg>\n",
              "      </button>\n",
              "      \n",
              "  <style>\n",
              "    .colab-df-container {\n",
              "      display:flex;\n",
              "      flex-wrap:wrap;\n",
              "      gap: 12px;\n",
              "    }\n",
              "\n",
              "    .colab-df-convert {\n",
              "      background-color: #E8F0FE;\n",
              "      border: none;\n",
              "      border-radius: 50%;\n",
              "      cursor: pointer;\n",
              "      display: none;\n",
              "      fill: #1967D2;\n",
              "      height: 32px;\n",
              "      padding: 0 0 0 0;\n",
              "      width: 32px;\n",
              "    }\n",
              "\n",
              "    .colab-df-convert:hover {\n",
              "      background-color: #E2EBFA;\n",
              "      box-shadow: 0px 1px 2px rgba(60, 64, 67, 0.3), 0px 1px 3px 1px rgba(60, 64, 67, 0.15);\n",
              "      fill: #174EA6;\n",
              "    }\n",
              "\n",
              "    [theme=dark] .colab-df-convert {\n",
              "      background-color: #3B4455;\n",
              "      fill: #D2E3FC;\n",
              "    }\n",
              "\n",
              "    [theme=dark] .colab-df-convert:hover {\n",
              "      background-color: #434B5C;\n",
              "      box-shadow: 0px 1px 3px 1px rgba(0, 0, 0, 0.15);\n",
              "      filter: drop-shadow(0px 1px 2px rgba(0, 0, 0, 0.3));\n",
              "      fill: #FFFFFF;\n",
              "    }\n",
              "  </style>\n",
              "\n",
              "      <script>\n",
              "        const buttonEl =\n",
              "          document.querySelector('#df-2415c6f9-7513-4752-b265-4480c5935ba9 button.colab-df-convert');\n",
              "        buttonEl.style.display =\n",
              "          google.colab.kernel.accessAllowed ? 'block' : 'none';\n",
              "\n",
              "        async function convertToInteractive(key) {\n",
              "          const element = document.querySelector('#df-2415c6f9-7513-4752-b265-4480c5935ba9');\n",
              "          const dataTable =\n",
              "            await google.colab.kernel.invokeFunction('convertToInteractive',\n",
              "                                                     [key], {});\n",
              "          if (!dataTable) return;\n",
              "\n",
              "          const docLinkHtml = 'Like what you see? Visit the ' +\n",
              "            '<a target=\"_blank\" href=https://colab.research.google.com/notebooks/data_table.ipynb>data table notebook</a>'\n",
              "            + ' to learn more about interactive tables.';\n",
              "          element.innerHTML = '';\n",
              "          dataTable['output_type'] = 'display_data';\n",
              "          await google.colab.output.renderOutput(dataTable, element);\n",
              "          const docLink = document.createElement('div');\n",
              "          docLink.innerHTML = docLinkHtml;\n",
              "          element.appendChild(docLink);\n",
              "        }\n",
              "      </script>\n",
              "    </div>\n",
              "  </div>\n",
              "  "
            ]
          },
          "metadata": {},
          "execution_count": 6
        }
      ]
    },
    {
      "cell_type": "markdown",
      "source": [
        "# EDA"
      ],
      "metadata": {
        "id": "uSl8HrqDydl3"
      }
    },
    {
      "cell_type": "markdown",
      "source": [
        "**Columns**\n",
        "\n",
        "*  ID : index\n",
        "*  gender : 성별\n",
        "*  age : 나이 (5 단위)\n",
        "*  height(cm) : 키\n",
        "*  weight(kg) : 몸무게\n",
        "*  waist(cm) : 허리 둘레\n",
        "*  eyesight(left) : 좌안 시력\n",
        "*  eyesight(right) : 우안 시력\n",
        "*  hearing(left) : 청력(좌)\n",
        "*  hearing(right) : 청력(우)\n",
        "*  systolic : 수축기 혈압\n",
        "*  relaxation : 이완기 혈압\n",
        "*  fasting blood sugar : 공복 혈당\n",
        "*  Cholesterol : 콜레스테롤\n",
        "*  triglyceride : 트리글리세리드\n",
        "*  HDL : 고밀도지질단백질\n",
        "*  LDL : 저밀도지질단백질\n",
        "*  hemoglobin : 헤모글로빈\n",
        "*  Urine protein : 요단백\n",
        "*  serum creatinine : 혈청크레아틴\n",
        "*  AST : 간수치 AST\n",
        "*  ALT : 간수치 ALT\n",
        "*  Gtp : 감마-GTP\n",
        "*  oral : 구강검진 유무\n",
        "*  dental caries : 충치\n",
        "*  tartar : 치석 유무\n",
        "*  \n",
        "*  smoking (TARGET)"
      ],
      "metadata": {
        "id": "BiEjUea3ZdY6"
      }
    },
    {
      "cell_type": "code",
      "source": [
        "# Dataframe shape 확인\n",
        "\n",
        "df.shape"
      ],
      "metadata": {
        "colab": {
          "base_uri": "https://localhost:8080/"
        },
        "id": "K8yf_3ILEDV9",
        "outputId": "5390a6b6-3308-4aa7-81f1-e84b3c943c06"
      },
      "execution_count": null,
      "outputs": [
        {
          "output_type": "execute_result",
          "data": {
            "text/plain": [
              "(55692, 27)"
            ]
          },
          "metadata": {},
          "execution_count": 7
        }
      ]
    },
    {
      "cell_type": "code",
      "source": [
        "# 컬럼, 데이터 타입 확인\n",
        "\n",
        "df.info()"
      ],
      "metadata": {
        "colab": {
          "base_uri": "https://localhost:8080/"
        },
        "id": "LabPlQ6VEDTy",
        "outputId": "ade887d9-186c-47ce-a507-bd93d51524b8"
      },
      "execution_count": null,
      "outputs": [
        {
          "output_type": "stream",
          "name": "stdout",
          "text": [
            "<class 'pandas.core.frame.DataFrame'>\n",
            "RangeIndex: 55692 entries, 0 to 55691\n",
            "Data columns (total 27 columns):\n",
            " #   Column               Non-Null Count  Dtype  \n",
            "---  ------               --------------  -----  \n",
            " 0   ID                   55692 non-null  int64  \n",
            " 1   gender               55692 non-null  object \n",
            " 2   age                  55692 non-null  int64  \n",
            " 3   height(cm)           55692 non-null  int64  \n",
            " 4   weight(kg)           55692 non-null  int64  \n",
            " 5   waist(cm)            55692 non-null  float64\n",
            " 6   eyesight(left)       55692 non-null  float64\n",
            " 7   eyesight(right)      55692 non-null  float64\n",
            " 8   hearing(left)        55692 non-null  float64\n",
            " 9   hearing(right)       55692 non-null  float64\n",
            " 10  systolic             55692 non-null  float64\n",
            " 11  relaxation           55692 non-null  float64\n",
            " 12  fasting blood sugar  55692 non-null  float64\n",
            " 13  Cholesterol          55692 non-null  float64\n",
            " 14  triglyceride         55692 non-null  float64\n",
            " 15  HDL                  55692 non-null  float64\n",
            " 16  LDL                  55692 non-null  float64\n",
            " 17  hemoglobin           55692 non-null  float64\n",
            " 18  Urine protein        55692 non-null  float64\n",
            " 19  serum creatinine     55692 non-null  float64\n",
            " 20  AST                  55692 non-null  float64\n",
            " 21  ALT                  55692 non-null  float64\n",
            " 22  Gtp                  55692 non-null  float64\n",
            " 23  oral                 55692 non-null  object \n",
            " 24  dental caries        55692 non-null  int64  \n",
            " 25  tartar               55692 non-null  object \n",
            " 26  smoking              55692 non-null  int64  \n",
            "dtypes: float64(18), int64(6), object(3)\n",
            "memory usage: 11.5+ MB\n"
          ]
        }
      ]
    },
    {
      "cell_type": "code",
      "source": [
        "# 결측치 확인 -> 결측치 없음\n",
        "\n",
        "df.isnull().sum()"
      ],
      "metadata": {
        "colab": {
          "base_uri": "https://localhost:8080/"
        },
        "id": "hOa3rZAtc8qG",
        "outputId": "cac2ba6c-42c9-4879-fa35-4023876e4d5e"
      },
      "execution_count": null,
      "outputs": [
        {
          "output_type": "execute_result",
          "data": {
            "text/plain": [
              "ID                     0\n",
              "gender                 0\n",
              "age                    0\n",
              "height(cm)             0\n",
              "weight(kg)             0\n",
              "waist(cm)              0\n",
              "eyesight(left)         0\n",
              "eyesight(right)        0\n",
              "hearing(left)          0\n",
              "hearing(right)         0\n",
              "systolic               0\n",
              "relaxation             0\n",
              "fasting blood sugar    0\n",
              "Cholesterol            0\n",
              "triglyceride           0\n",
              "HDL                    0\n",
              "LDL                    0\n",
              "hemoglobin             0\n",
              "Urine protein          0\n",
              "serum creatinine       0\n",
              "AST                    0\n",
              "ALT                    0\n",
              "Gtp                    0\n",
              "oral                   0\n",
              "dental caries          0\n",
              "tartar                 0\n",
              "smoking                0\n",
              "dtype: int64"
            ]
          },
          "metadata": {},
          "execution_count": 9
        }
      ]
    },
    {
      "cell_type": "code",
      "source": [
        "# 데이터 프로파일링\n",
        "\n",
        "from pandas_profiling import ProfileReport\n",
        "\n",
        "profile = ProfileReport(df, minimal=True)\n",
        "profile"
      ],
      "metadata": {
        "id": "kfd7peLDdvKX"
      },
      "execution_count": null,
      "outputs": []
    },
    {
      "cell_type": "markdown",
      "source": [
        "# Data preprocessing & Feature engineering\n",
        "  \n",
        "\n",
        "1.   흡연 유무와 실제로 연관이 없을 것 같은 특성들을 선별하여 삭제\n",
        "2.   시력(좌, 우)와 청력(좌, 우)를 각각 합쳐서 새로운 Feature 생성\n",
        "3.   Boxplot으로 각 Feature별 이상치의 분포를 확인하고 학습에 방해를 주는 이상치 제거\n",
        "\n"
      ],
      "metadata": {
        "id": "5G4OK5sziJms"
      }
    },
    {
      "cell_type": "code",
      "source": [
        "# ID, 키, 몸무게, 허리둘레는 흡연 유무를 판단하는 데 관련이 적다고 생각하여 삭제\n",
        "# 'oral'은 모든 값이 Y 이므로 학습에 영향을 주지 않으므로 삭제\n",
        "\n",
        "df.drop(['ID', 'height(cm)', 'weight(kg)', 'waist(cm)', 'oral'], axis=1, inplace=True)"
      ],
      "metadata": {
        "id": "7_JmgmenEDRr"
      },
      "execution_count": null,
      "outputs": []
    },
    {
      "cell_type": "code",
      "source": [
        "# eysight와 hearing 각각 좌우 값을 합쳐 새로운 column 생성 \n",
        " \n",
        "df['eyesight'] = (df['eyesight(left)'] + df['eyesight(right)']) / 2\n",
        "df['hearing'] = (df['hearing(left)'] + df['hearing(right)']) / 2\n",
        "\n",
        "df.drop(['eyesight(left)', 'eyesight(right)', 'hearing(left)', 'hearing(right)'], axis=1, inplace=True)\n",
        "\n",
        "\n",
        "# Columns 순서 조정\n",
        "\n",
        "df = df[['gender', 'age', 'hearing', 'eyesight', 'systolic', 'relaxation', 'fasting blood sugar',\t'Cholesterol',\t'triglyceride',\t'HDL',\t'LDL',\t'hemoglobin',\t'serum creatinine',\t'AST',\t'ALT',\t'Gtp',\t'Urine protein',\t'dental caries',\t'tartar',\t'smoking'\t]]"
      ],
      "metadata": {
        "id": "li00m5E5Z07r"
      },
      "execution_count": null,
      "outputs": []
    },
    {
      "cell_type": "code",
      "source": [
        "# 간단한 전처리 후 데이터프레임\n",
        "\n",
        "df"
      ],
      "metadata": {
        "colab": {
          "base_uri": "https://localhost:8080/",
          "height": 424
        },
        "id": "jcXIYMQcgdxS",
        "outputId": "103d101a-9fca-4bc1-ccd1-aad6e001143a"
      },
      "execution_count": null,
      "outputs": [
        {
          "output_type": "execute_result",
          "data": {
            "text/plain": [
              "      gender  age  hearing  eyesight  systolic  relaxation  \\\n",
              "0          F   40      1.0       1.1     114.0        73.0   \n",
              "1          F   40      1.0       0.7     119.0        70.0   \n",
              "2          M   55      1.0       0.8     138.0        86.0   \n",
              "3          M   40      1.0       1.5     100.0        60.0   \n",
              "4          F   40      1.0       1.0     120.0        74.0   \n",
              "...      ...  ...      ...       ...       ...         ...   \n",
              "55687      F   40      1.0       0.9     110.0        68.0   \n",
              "55688      F   45      1.0       1.2     101.0        62.0   \n",
              "55689      F   55      1.0       1.1     117.0        72.0   \n",
              "55690      M   60      1.0       0.9     133.0        76.0   \n",
              "55691      M   55      1.0       0.8     124.0        75.0   \n",
              "\n",
              "       fasting blood sugar  Cholesterol  triglyceride   HDL    LDL  \\\n",
              "0                     94.0        215.0          82.0  73.0  126.0   \n",
              "1                    130.0        192.0         115.0  42.0  127.0   \n",
              "2                     89.0        242.0         182.0  55.0  151.0   \n",
              "3                     96.0        322.0         254.0  45.0  226.0   \n",
              "4                     80.0        184.0          74.0  62.0  107.0   \n",
              "...                    ...          ...           ...   ...    ...   \n",
              "55687                 89.0        213.0          99.0  75.0  118.0   \n",
              "55688                 89.0        166.0          69.0  73.0   79.0   \n",
              "55689                 88.0        158.0          77.0  79.0   63.0   \n",
              "55690                107.0        210.0          79.0  48.0  146.0   \n",
              "55691                 82.0        213.0         142.0  34.0  150.0   \n",
              "\n",
              "       hemoglobin  serum creatinine   AST   ALT   Gtp  Urine protein  \\\n",
              "0            12.9               0.7  18.0  19.0  27.0            1.0   \n",
              "1            12.7               0.6  22.0  19.0  18.0            1.0   \n",
              "2            15.8               1.0  21.0  16.0  22.0            1.0   \n",
              "3            14.7               1.0  19.0  26.0  18.0            1.0   \n",
              "4            12.5               0.6  16.0  14.0  22.0            1.0   \n",
              "...           ...               ...   ...   ...   ...            ...   \n",
              "55687        12.3               0.6  14.0   7.0  10.0            1.0   \n",
              "55688        14.0               0.9  20.0  12.0  14.0            1.0   \n",
              "55689        12.4               0.5  17.0  11.0  12.0            1.0   \n",
              "55690        14.4               0.7  20.0  19.0  18.0            1.0   \n",
              "55691        15.0               0.8  26.0  29.0  41.0            1.0   \n",
              "\n",
              "       dental caries tartar  smoking  \n",
              "0                  0      Y        0  \n",
              "1                  0      Y        0  \n",
              "2                  0      N        1  \n",
              "3                  0      Y        0  \n",
              "4                  0      N        0  \n",
              "...              ...    ...      ...  \n",
              "55687              1      Y        0  \n",
              "55688              0      Y        0  \n",
              "55689              0      N        0  \n",
              "55690              0      N        0  \n",
              "55691              0      Y        1  \n",
              "\n",
              "[55692 rows x 20 columns]"
            ],
            "text/html": [
              "\n",
              "  <div id=\"df-8c96dedc-57bd-4191-83d1-be0f26cb3d93\">\n",
              "    <div class=\"colab-df-container\">\n",
              "      <div>\n",
              "<style scoped>\n",
              "    .dataframe tbody tr th:only-of-type {\n",
              "        vertical-align: middle;\n",
              "    }\n",
              "\n",
              "    .dataframe tbody tr th {\n",
              "        vertical-align: top;\n",
              "    }\n",
              "\n",
              "    .dataframe thead th {\n",
              "        text-align: right;\n",
              "    }\n",
              "</style>\n",
              "<table border=\"1\" class=\"dataframe\">\n",
              "  <thead>\n",
              "    <tr style=\"text-align: right;\">\n",
              "      <th></th>\n",
              "      <th>gender</th>\n",
              "      <th>age</th>\n",
              "      <th>hearing</th>\n",
              "      <th>eyesight</th>\n",
              "      <th>systolic</th>\n",
              "      <th>relaxation</th>\n",
              "      <th>fasting blood sugar</th>\n",
              "      <th>Cholesterol</th>\n",
              "      <th>triglyceride</th>\n",
              "      <th>HDL</th>\n",
              "      <th>LDL</th>\n",
              "      <th>hemoglobin</th>\n",
              "      <th>serum creatinine</th>\n",
              "      <th>AST</th>\n",
              "      <th>ALT</th>\n",
              "      <th>Gtp</th>\n",
              "      <th>Urine protein</th>\n",
              "      <th>dental caries</th>\n",
              "      <th>tartar</th>\n",
              "      <th>smoking</th>\n",
              "    </tr>\n",
              "  </thead>\n",
              "  <tbody>\n",
              "    <tr>\n",
              "      <th>0</th>\n",
              "      <td>F</td>\n",
              "      <td>40</td>\n",
              "      <td>1.0</td>\n",
              "      <td>1.1</td>\n",
              "      <td>114.0</td>\n",
              "      <td>73.0</td>\n",
              "      <td>94.0</td>\n",
              "      <td>215.0</td>\n",
              "      <td>82.0</td>\n",
              "      <td>73.0</td>\n",
              "      <td>126.0</td>\n",
              "      <td>12.9</td>\n",
              "      <td>0.7</td>\n",
              "      <td>18.0</td>\n",
              "      <td>19.0</td>\n",
              "      <td>27.0</td>\n",
              "      <td>1.0</td>\n",
              "      <td>0</td>\n",
              "      <td>Y</td>\n",
              "      <td>0</td>\n",
              "    </tr>\n",
              "    <tr>\n",
              "      <th>1</th>\n",
              "      <td>F</td>\n",
              "      <td>40</td>\n",
              "      <td>1.0</td>\n",
              "      <td>0.7</td>\n",
              "      <td>119.0</td>\n",
              "      <td>70.0</td>\n",
              "      <td>130.0</td>\n",
              "      <td>192.0</td>\n",
              "      <td>115.0</td>\n",
              "      <td>42.0</td>\n",
              "      <td>127.0</td>\n",
              "      <td>12.7</td>\n",
              "      <td>0.6</td>\n",
              "      <td>22.0</td>\n",
              "      <td>19.0</td>\n",
              "      <td>18.0</td>\n",
              "      <td>1.0</td>\n",
              "      <td>0</td>\n",
              "      <td>Y</td>\n",
              "      <td>0</td>\n",
              "    </tr>\n",
              "    <tr>\n",
              "      <th>2</th>\n",
              "      <td>M</td>\n",
              "      <td>55</td>\n",
              "      <td>1.0</td>\n",
              "      <td>0.8</td>\n",
              "      <td>138.0</td>\n",
              "      <td>86.0</td>\n",
              "      <td>89.0</td>\n",
              "      <td>242.0</td>\n",
              "      <td>182.0</td>\n",
              "      <td>55.0</td>\n",
              "      <td>151.0</td>\n",
              "      <td>15.8</td>\n",
              "      <td>1.0</td>\n",
              "      <td>21.0</td>\n",
              "      <td>16.0</td>\n",
              "      <td>22.0</td>\n",
              "      <td>1.0</td>\n",
              "      <td>0</td>\n",
              "      <td>N</td>\n",
              "      <td>1</td>\n",
              "    </tr>\n",
              "    <tr>\n",
              "      <th>3</th>\n",
              "      <td>M</td>\n",
              "      <td>40</td>\n",
              "      <td>1.0</td>\n",
              "      <td>1.5</td>\n",
              "      <td>100.0</td>\n",
              "      <td>60.0</td>\n",
              "      <td>96.0</td>\n",
              "      <td>322.0</td>\n",
              "      <td>254.0</td>\n",
              "      <td>45.0</td>\n",
              "      <td>226.0</td>\n",
              "      <td>14.7</td>\n",
              "      <td>1.0</td>\n",
              "      <td>19.0</td>\n",
              "      <td>26.0</td>\n",
              "      <td>18.0</td>\n",
              "      <td>1.0</td>\n",
              "      <td>0</td>\n",
              "      <td>Y</td>\n",
              "      <td>0</td>\n",
              "    </tr>\n",
              "    <tr>\n",
              "      <th>4</th>\n",
              "      <td>F</td>\n",
              "      <td>40</td>\n",
              "      <td>1.0</td>\n",
              "      <td>1.0</td>\n",
              "      <td>120.0</td>\n",
              "      <td>74.0</td>\n",
              "      <td>80.0</td>\n",
              "      <td>184.0</td>\n",
              "      <td>74.0</td>\n",
              "      <td>62.0</td>\n",
              "      <td>107.0</td>\n",
              "      <td>12.5</td>\n",
              "      <td>0.6</td>\n",
              "      <td>16.0</td>\n",
              "      <td>14.0</td>\n",
              "      <td>22.0</td>\n",
              "      <td>1.0</td>\n",
              "      <td>0</td>\n",
              "      <td>N</td>\n",
              "      <td>0</td>\n",
              "    </tr>\n",
              "    <tr>\n",
              "      <th>...</th>\n",
              "      <td>...</td>\n",
              "      <td>...</td>\n",
              "      <td>...</td>\n",
              "      <td>...</td>\n",
              "      <td>...</td>\n",
              "      <td>...</td>\n",
              "      <td>...</td>\n",
              "      <td>...</td>\n",
              "      <td>...</td>\n",
              "      <td>...</td>\n",
              "      <td>...</td>\n",
              "      <td>...</td>\n",
              "      <td>...</td>\n",
              "      <td>...</td>\n",
              "      <td>...</td>\n",
              "      <td>...</td>\n",
              "      <td>...</td>\n",
              "      <td>...</td>\n",
              "      <td>...</td>\n",
              "      <td>...</td>\n",
              "    </tr>\n",
              "    <tr>\n",
              "      <th>55687</th>\n",
              "      <td>F</td>\n",
              "      <td>40</td>\n",
              "      <td>1.0</td>\n",
              "      <td>0.9</td>\n",
              "      <td>110.0</td>\n",
              "      <td>68.0</td>\n",
              "      <td>89.0</td>\n",
              "      <td>213.0</td>\n",
              "      <td>99.0</td>\n",
              "      <td>75.0</td>\n",
              "      <td>118.0</td>\n",
              "      <td>12.3</td>\n",
              "      <td>0.6</td>\n",
              "      <td>14.0</td>\n",
              "      <td>7.0</td>\n",
              "      <td>10.0</td>\n",
              "      <td>1.0</td>\n",
              "      <td>1</td>\n",
              "      <td>Y</td>\n",
              "      <td>0</td>\n",
              "    </tr>\n",
              "    <tr>\n",
              "      <th>55688</th>\n",
              "      <td>F</td>\n",
              "      <td>45</td>\n",
              "      <td>1.0</td>\n",
              "      <td>1.2</td>\n",
              "      <td>101.0</td>\n",
              "      <td>62.0</td>\n",
              "      <td>89.0</td>\n",
              "      <td>166.0</td>\n",
              "      <td>69.0</td>\n",
              "      <td>73.0</td>\n",
              "      <td>79.0</td>\n",
              "      <td>14.0</td>\n",
              "      <td>0.9</td>\n",
              "      <td>20.0</td>\n",
              "      <td>12.0</td>\n",
              "      <td>14.0</td>\n",
              "      <td>1.0</td>\n",
              "      <td>0</td>\n",
              "      <td>Y</td>\n",
              "      <td>0</td>\n",
              "    </tr>\n",
              "    <tr>\n",
              "      <th>55689</th>\n",
              "      <td>F</td>\n",
              "      <td>55</td>\n",
              "      <td>1.0</td>\n",
              "      <td>1.1</td>\n",
              "      <td>117.0</td>\n",
              "      <td>72.0</td>\n",
              "      <td>88.0</td>\n",
              "      <td>158.0</td>\n",
              "      <td>77.0</td>\n",
              "      <td>79.0</td>\n",
              "      <td>63.0</td>\n",
              "      <td>12.4</td>\n",
              "      <td>0.5</td>\n",
              "      <td>17.0</td>\n",
              "      <td>11.0</td>\n",
              "      <td>12.0</td>\n",
              "      <td>1.0</td>\n",
              "      <td>0</td>\n",
              "      <td>N</td>\n",
              "      <td>0</td>\n",
              "    </tr>\n",
              "    <tr>\n",
              "      <th>55690</th>\n",
              "      <td>M</td>\n",
              "      <td>60</td>\n",
              "      <td>1.0</td>\n",
              "      <td>0.9</td>\n",
              "      <td>133.0</td>\n",
              "      <td>76.0</td>\n",
              "      <td>107.0</td>\n",
              "      <td>210.0</td>\n",
              "      <td>79.0</td>\n",
              "      <td>48.0</td>\n",
              "      <td>146.0</td>\n",
              "      <td>14.4</td>\n",
              "      <td>0.7</td>\n",
              "      <td>20.0</td>\n",
              "      <td>19.0</td>\n",
              "      <td>18.0</td>\n",
              "      <td>1.0</td>\n",
              "      <td>0</td>\n",
              "      <td>N</td>\n",
              "      <td>0</td>\n",
              "    </tr>\n",
              "    <tr>\n",
              "      <th>55691</th>\n",
              "      <td>M</td>\n",
              "      <td>55</td>\n",
              "      <td>1.0</td>\n",
              "      <td>0.8</td>\n",
              "      <td>124.0</td>\n",
              "      <td>75.0</td>\n",
              "      <td>82.0</td>\n",
              "      <td>213.0</td>\n",
              "      <td>142.0</td>\n",
              "      <td>34.0</td>\n",
              "      <td>150.0</td>\n",
              "      <td>15.0</td>\n",
              "      <td>0.8</td>\n",
              "      <td>26.0</td>\n",
              "      <td>29.0</td>\n",
              "      <td>41.0</td>\n",
              "      <td>1.0</td>\n",
              "      <td>0</td>\n",
              "      <td>Y</td>\n",
              "      <td>1</td>\n",
              "    </tr>\n",
              "  </tbody>\n",
              "</table>\n",
              "<p>55692 rows × 20 columns</p>\n",
              "</div>\n",
              "      <button class=\"colab-df-convert\" onclick=\"convertToInteractive('df-8c96dedc-57bd-4191-83d1-be0f26cb3d93')\"\n",
              "              title=\"Convert this dataframe to an interactive table.\"\n",
              "              style=\"display:none;\">\n",
              "        \n",
              "  <svg xmlns=\"http://www.w3.org/2000/svg\" height=\"24px\"viewBox=\"0 0 24 24\"\n",
              "       width=\"24px\">\n",
              "    <path d=\"M0 0h24v24H0V0z\" fill=\"none\"/>\n",
              "    <path d=\"M18.56 5.44l.94 2.06.94-2.06 2.06-.94-2.06-.94-.94-2.06-.94 2.06-2.06.94zm-11 1L8.5 8.5l.94-2.06 2.06-.94-2.06-.94L8.5 2.5l-.94 2.06-2.06.94zm10 10l.94 2.06.94-2.06 2.06-.94-2.06-.94-.94-2.06-.94 2.06-2.06.94z\"/><path d=\"M17.41 7.96l-1.37-1.37c-.4-.4-.92-.59-1.43-.59-.52 0-1.04.2-1.43.59L10.3 9.45l-7.72 7.72c-.78.78-.78 2.05 0 2.83L4 21.41c.39.39.9.59 1.41.59.51 0 1.02-.2 1.41-.59l7.78-7.78 2.81-2.81c.8-.78.8-2.07 0-2.86zM5.41 20L4 18.59l7.72-7.72 1.47 1.35L5.41 20z\"/>\n",
              "  </svg>\n",
              "      </button>\n",
              "      \n",
              "  <style>\n",
              "    .colab-df-container {\n",
              "      display:flex;\n",
              "      flex-wrap:wrap;\n",
              "      gap: 12px;\n",
              "    }\n",
              "\n",
              "    .colab-df-convert {\n",
              "      background-color: #E8F0FE;\n",
              "      border: none;\n",
              "      border-radius: 50%;\n",
              "      cursor: pointer;\n",
              "      display: none;\n",
              "      fill: #1967D2;\n",
              "      height: 32px;\n",
              "      padding: 0 0 0 0;\n",
              "      width: 32px;\n",
              "    }\n",
              "\n",
              "    .colab-df-convert:hover {\n",
              "      background-color: #E2EBFA;\n",
              "      box-shadow: 0px 1px 2px rgba(60, 64, 67, 0.3), 0px 1px 3px 1px rgba(60, 64, 67, 0.15);\n",
              "      fill: #174EA6;\n",
              "    }\n",
              "\n",
              "    [theme=dark] .colab-df-convert {\n",
              "      background-color: #3B4455;\n",
              "      fill: #D2E3FC;\n",
              "    }\n",
              "\n",
              "    [theme=dark] .colab-df-convert:hover {\n",
              "      background-color: #434B5C;\n",
              "      box-shadow: 0px 1px 3px 1px rgba(0, 0, 0, 0.15);\n",
              "      filter: drop-shadow(0px 1px 2px rgba(0, 0, 0, 0.3));\n",
              "      fill: #FFFFFF;\n",
              "    }\n",
              "  </style>\n",
              "\n",
              "      <script>\n",
              "        const buttonEl =\n",
              "          document.querySelector('#df-8c96dedc-57bd-4191-83d1-be0f26cb3d93 button.colab-df-convert');\n",
              "        buttonEl.style.display =\n",
              "          google.colab.kernel.accessAllowed ? 'block' : 'none';\n",
              "\n",
              "        async function convertToInteractive(key) {\n",
              "          const element = document.querySelector('#df-8c96dedc-57bd-4191-83d1-be0f26cb3d93');\n",
              "          const dataTable =\n",
              "            await google.colab.kernel.invokeFunction('convertToInteractive',\n",
              "                                                     [key], {});\n",
              "          if (!dataTable) return;\n",
              "\n",
              "          const docLinkHtml = 'Like what you see? Visit the ' +\n",
              "            '<a target=\"_blank\" href=https://colab.research.google.com/notebooks/data_table.ipynb>data table notebook</a>'\n",
              "            + ' to learn more about interactive tables.';\n",
              "          element.innerHTML = '';\n",
              "          dataTable['output_type'] = 'display_data';\n",
              "          await google.colab.output.renderOutput(dataTable, element);\n",
              "          const docLink = document.createElement('div');\n",
              "          docLink.innerHTML = docLinkHtml;\n",
              "          element.appendChild(docLink);\n",
              "        }\n",
              "      </script>\n",
              "    </div>\n",
              "  </div>\n",
              "  "
            ]
          },
          "metadata": {},
          "execution_count": 13
        }
      ]
    },
    {
      "cell_type": "code",
      "source": [
        "df0 = df.copy()"
      ],
      "metadata": {
        "id": "mkj-0Ix_y7DB"
      },
      "execution_count": null,
      "outputs": []
    },
    {
      "cell_type": "code",
      "source": [
        "# Outlier 처리 전 boxplot (Outlier 분포 확인)\n",
        "\n",
        "import matplotlib.pyplot as plt\n",
        "%matplotlib inline\n",
        "\n",
        "fig, ax = plt.subplots(5, 3, figsize=(15, 20))\n",
        "\n",
        "ax[0, 0].boxplot(df0['eyesight'])\n",
        "ax[0, 0].set_title('eyesight')\n",
        "\n",
        "ax[0, 1].boxplot(df0['systolic'])\n",
        "ax[0, 1].set_title('systolic')\n",
        "\n",
        "ax[0, 2].boxplot(df0['relaxation'])\n",
        "ax[0, 2].set_title('relaxation')\n",
        "\n",
        "ax[1, 0].boxplot(df0['fasting blood sugar'])\n",
        "ax[1, 0].set_title('fasting blood sugar')\n",
        "\n",
        "ax[1, 1].boxplot(df0['Cholesterol'])\n",
        "ax[1, 1].set_title('Cholesterol')\n",
        "\n",
        "ax[1, 2].boxplot(df0['triglyceride'])\n",
        "ax[1, 2].set_title('triglyceride')\n",
        "\n",
        "ax[2, 0].boxplot(df0['HDL'])\n",
        "ax[2, 0].set_title('HDL')\n",
        "\n",
        "ax[2, 1].boxplot(df0['LDL'])\n",
        "ax[2, 1].set_title('LDL')\n",
        "\n",
        "ax[2, 2].boxplot(df0['hemoglobin'])\n",
        "ax[2, 2].set_title('hemoglobin')\n",
        "\n",
        "ax[3, 0].boxplot(df0['serum creatinine'])\n",
        "ax[3, 0].set_title('serum creatinine')\n",
        "\n",
        "ax[3, 1].boxplot(df0['AST'])\n",
        "ax[3, 1].set_title('AST')\n",
        "\n",
        "ax[3, 2].boxplot(df0['ALT'])\n",
        "ax[3, 2].set_title('ALT')\n",
        "\n",
        "ax[4, 0].boxplot(df0['Gtp'])\n",
        "ax[4, 0].set_title('Gtp')\n",
        "\n",
        "plt.show()"
      ],
      "metadata": {
        "id": "PCYEiERiyysB",
        "colab": {
          "base_uri": "https://localhost:8080/",
          "height": 1000
        },
        "outputId": "d30ba717-00ba-4a78-db32-ca3dbe71b8a6"
      },
      "execution_count": null,
      "outputs": [
        {
          "output_type": "display_data",
          "data": {
            "text/plain": [
              "<Figure size 1080x1440 with 15 Axes>"
            ],
            "image/png": "[encoded data removed]"
          },
          "metadata": {
            "needs_background": "light"
          }
        }
      ]
    },
    {
      "cell_type": "code",
      "source": [
        "# Outlier 제거\n",
        "\n",
        "def drop_outlier(df, column, weight = 1.5):\n",
        "\n",
        "  quantile_25 = np.percentile(df[column].values, 25)\n",
        "  quantile_75 = np.percentile(df[column].values, 75)\n",
        "\n",
        "  IQR = (quantile_75 - quantile_25) * weight\n",
        "\n",
        "  lowest = quantile_25 - IQR\n",
        "  highest = quantile_75 + IQR\n",
        "\n",
        "  outlier_idx = df[column][ (df[column] < lowest) | (df[column] > highest)].index\n",
        "\n",
        "  df.drop(outlier_idx, axis = 0, inplace=True)\n",
        "\n",
        "\n",
        "for i in range(3,16):\n",
        "  drop_outlier(df, df.columns[i], weight = 1.5)\n",
        "\n",
        "df.reset_index(drop = True,inplace=True)"
      ],
      "metadata": {
        "id": "Hb33_-NQyCPO",
        "colab": {
          "base_uri": "https://localhost:8080/"
        },
        "outputId": "d21d2d3c-e13e-453d-858a-7ab7ecda3407"
      },
      "execution_count": null,
      "outputs": [
        {
          "output_type": "stream",
          "name": "stderr",
          "text": [
            "/usr/local/lib/python3.7/dist-packages/pandas/core/frame.py:4913: SettingWithCopyWarning: \n",
            "A value is trying to be set on a copy of a slice from a DataFrame\n",
            "\n",
            "See the caveats in the documentation: https://pandas.pydata.org/pandas-docs/stable/user_guide/indexing.html#returning-a-view-versus-a-copy\n",
            "  errors=errors,\n"
          ]
        }
      ]
    },
    {
      "cell_type": "code",
      "source": [
        "# Outlier 처리 후 boxplot\n",
        "\n",
        "import matplotlib.pyplot as plt\n",
        "%matplotlib inline\n",
        "\n",
        "fig, ax = plt.subplots(5, 3, figsize=(15, 20))\n",
        "fig.set_facecolor('white')\n",
        "\n",
        "ax[0, 0].boxplot(df['eyesight'])\n",
        "ax[0, 0].set_title('eyesight')\n",
        "\n",
        "ax[0, 1].boxplot(df['systolic'])\n",
        "ax[0, 1].set_title('systolic')\n",
        "\n",
        "ax[0, 2].boxplot(df['relaxation'])\n",
        "ax[0, 2].set_title('relaxation')\n",
        "\n",
        "ax[1, 0].boxplot(df['fasting blood sugar'])\n",
        "ax[1, 0].set_title('fasting blood sugar')\n",
        "\n",
        "ax[1, 1].boxplot(df['Cholesterol'])\n",
        "ax[1, 1].set_title('Cholesterol')\n",
        "\n",
        "ax[1, 2].boxplot(df['triglyceride'])\n",
        "ax[1, 2].set_title('triglyceride')\n",
        "\n",
        "ax[2, 0].boxplot(df['HDL'])\n",
        "ax[2, 0].set_title('HDL')\n",
        "\n",
        "ax[2, 1].boxplot(df['LDL'])\n",
        "ax[2, 1].set_title('LDL')\n",
        "\n",
        "ax[2, 2].boxplot(df['hemoglobin'])\n",
        "ax[2, 2].set_title('hemoglobin')\n",
        "\n",
        "ax[3, 0].boxplot(df['serum creatinine'])\n",
        "ax[3, 0].set_title('serum creatinine')\n",
        "\n",
        "ax[3, 1].boxplot(df['AST'])\n",
        "ax[3, 1].set_title('AST')\n",
        "\n",
        "ax[3, 2].boxplot(df['ALT'])\n",
        "ax[3, 2].set_title('ALT')\n",
        "\n",
        "ax[4, 0].boxplot(df['Gtp'])\n",
        "ax[4, 0].set_title('Gtp')\n",
        "\n",
        "plt.show()"
      ],
      "metadata": {
        "id": "WwBOsIp6_rqz",
        "colab": {
          "base_uri": "https://localhost:8080/",
          "height": 1000
        },
        "outputId": "ed578d1b-895e-4145-a8fd-ddc3e7d4088a"
      },
      "execution_count": null,
      "outputs": [
        {
          "output_type": "display_data",
          "data": {
            "text/plain": [
              "<Figure size 1080x1440 with 15 Axes>"
            ],
            "image/png": "[encoded data removed]"
          },
          "metadata": {}
        }
      ]
    },
    {
      "cell_type": "code",
      "source": [
        "df.shape"
      ],
      "metadata": {
        "colab": {
          "base_uri": "https://localhost:8080/"
        },
        "id": "G0tkW3MhAeiU",
        "outputId": "f0ec433f-3350-4bbf-bb62-e0eb7b663bbe"
      },
      "execution_count": null,
      "outputs": [
        {
          "output_type": "execute_result",
          "data": {
            "text/plain": [
              "(35381, 20)"
            ]
          },
          "metadata": {},
          "execution_count": 18
        }
      ]
    },
    {
      "cell_type": "code",
      "source": [
        "df['smoking'].value_counts().plot.pie(explode=[0,0.1],autopct='%1.1f%%',shadow=True)"
      ],
      "metadata": {
        "colab": {
          "base_uri": "https://localhost:8080/",
          "height": 266
        },
        "id": "zinLPquN9icQ",
        "outputId": "d7c880ec-afdf-40b9-a373-0d52d7545288"
      },
      "execution_count": null,
      "outputs": [
        {
          "output_type": "execute_result",
          "data": {
            "text/plain": [
              "<matplotlib.axes._subplots.AxesSubplot at 0x7f70ac411450>"
            ]
          },
          "metadata": {},
          "execution_count": 19
        },
        {
          "output_type": "display_data",
          "data": {
            "text/plain": [
              "<Figure size 432x288 with 1 Axes>"
            ],
            "image/png": "[encoded data removed]"
          },
          "metadata": {}
        }
      ]
    },
    {
      "cell_type": "code",
      "source": [
        "profile = ProfileReport(df, minimal=True)\n",
        "profile"
      ],
      "metadata": {
        "id": "wb8cwy9oyCNN"
      },
      "execution_count": null,
      "outputs": []
    },
    {
      "cell_type": "markdown",
      "source": [
        "# Modeling\n",
        "\n",
        "\n",
        "\n",
        "1. train, val, test 분리\n",
        "2. Feature, Target 분리\n",
        "3. Baseline\n",
        "4. [Pipeline 구축] TargetEncoder / SimpleImputer / RandomForestClassifier\n",
        "5. [성능 검증] pipe.score / oob score / AUC score / ROC Curve\n",
        "6. [최적의 파라미터 설정] RandomizedSearchCV\n",
        "7. Column별 중요도를 찾아서 다시 Feature Engineering\n",
        "\n",
        "\n",
        "\n",
        "\n",
        "\n",
        "\n"
      ],
      "metadata": {
        "id": "1A3idqsWyCmt"
      }
    },
    {
      "cell_type": "code",
      "source": [
        "# train, val, test 분리\n",
        "\n",
        "from sklearn.model_selection import train_test_split\n",
        "\n",
        "target = 'smoking'\n",
        "\n",
        "train_val, test = train_test_split(df, train_size=0.80, test_size=0.20, \n",
        "                              stratify=df[target], random_state=2)\n",
        "\n",
        "train, val = train_test_split(train_val, train_size=0.80, test_size=0.20, \n",
        "                              stratify=train_val[target], random_state=2)\n",
        "\n",
        "\n",
        "train.shape, val.shape, test.shape"
      ],
      "metadata": {
        "colab": {
          "base_uri": "https://localhost:8080/"
        },
        "id": "6KAM-lXZIz0Z",
        "outputId": "bb6f445a-f564-4d90-e7be-05f29cc2bf96"
      },
      "execution_count": null,
      "outputs": [
        {
          "output_type": "execute_result",
          "data": {
            "text/plain": [
              "((22643, 20), (5661, 20), (7077, 20))"
            ]
          },
          "metadata": {},
          "execution_count": 21
        }
      ]
    },
    {
      "cell_type": "code",
      "source": [
        "# 특성과 타겟으로 분리\n",
        "\n",
        "features = train.drop(columns=[target]).columns\n",
        "\n",
        "X_train = train[features]\n",
        "y_train = train[target]\n",
        "\n",
        "X_val = val[features]\n",
        "y_val = val[target]\n",
        "\n",
        "X_test = test[features]\n",
        "y_test = test[target]"
      ],
      "metadata": {
        "id": "Btf-l0gaKBog"
      },
      "execution_count": null,
      "outputs": []
    },
    {
      "cell_type": "code",
      "source": [
        "from category_encoders import OneHotEncoder\n",
        "from category_encoders import OrdinalEncoder\n",
        "from category_encoders import TargetEncoder\n",
        "from sklearn.ensemble import RandomForestClassifier\n",
        "from sklearn.impute import SimpleImputer \n",
        "from sklearn.pipeline import make_pipeline"
      ],
      "metadata": {
        "id": "9It802mWKX0m",
        "colab": {
          "base_uri": "https://localhost:8080/"
        },
        "outputId": "0ca7d8b5-de33-42fb-977f-794cf6a7fac5"
      },
      "execution_count": null,
      "outputs": [
        {
          "output_type": "stream",
          "name": "stderr",
          "text": [
            "/usr/local/lib/python3.7/dist-packages/statsmodels/tools/_testing.py:19: FutureWarning: pandas.util.testing is deprecated. Use the functions in the public API at pandas.testing instead.\n",
            "  import pandas.util.testing as tm\n"
          ]
        }
      ]
    },
    {
      "cell_type": "code",
      "source": [
        "# baseline\n",
        "\n",
        "from sklearn.metrics import accuracy_score\n",
        "\n",
        "\n",
        "major = y_train.mode()[0]\n",
        "y_pred = [major] * len(y_train)\n",
        "print(\"training accuracy: \", accuracy_score(y_train, y_pred))\n",
        "\n",
        "y_val = val[target]\n",
        "y_pred = [major] * len(y_val)\n",
        "print(\"validation accuracy: \", accuracy_score(y_val, y_pred))"
      ],
      "metadata": {
        "colab": {
          "base_uri": "https://localhost:8080/"
        },
        "id": "QE7aMBPMypel",
        "outputId": "766accaa-c687-4172-c547-17a7c1be9c86"
      },
      "execution_count": null,
      "outputs": [
        {
          "output_type": "stream",
          "name": "stdout",
          "text": [
            "training accuracy:  0.6794594355871572\n",
            "validation accuracy:  0.6793852676205617\n"
          ]
        }
      ]
    },
    {
      "cell_type": "code",
      "source": [
        "# pipeline (랜덤포레스트)\n",
        "\n",
        "pipe = make_pipeline(\n",
        "        TargetEncoder(min_samples_leaf=1, smoothing=1), \n",
        "        SimpleImputer(), \n",
        "        RandomForestClassifier(n_jobs=-1,random_state=42, oob_score=True)\n",
        "        )\n",
        "\n",
        "\n",
        "pipe.fit(X_train, y_train)\n",
        "print('검증 정확도: ', pipe.score(X_val, y_val))"
      ],
      "metadata": {
        "id": "UiApNUBsZ01v",
        "colab": {
          "base_uri": "https://localhost:8080/"
        },
        "outputId": "f84d597b-a0ed-49fb-c635-e11ca2bf4e69"
      },
      "execution_count": null,
      "outputs": [
        {
          "output_type": "stream",
          "name": "stdout",
          "text": [
            "검증 정확도:  0.8132838721074015\n"
          ]
        }
      ]
    },
    {
      "cell_type": "code",
      "source": [
        "from sklearn.metrics import f1_score\n",
        "\n",
        "y_pred_train = pipe.predict(X_train)\n",
        "y_pred_val = pipe.predict(X_val)\n",
        "y_pred_test = pipe.predict(X_test)\n",
        "\n",
        "print('훈련세트 정확도 : ', pipe.score(X_train, y_train))\n",
        "print('검증세트 정확도 : ', pipe.score(X_val, y_val))\n",
        "print('테스트세트 정확도 :', pipe.score(X_test, y_test))\n",
        "print('--------------------------------------------')\n",
        "print('훈련세트 F1-score : ', f1_score(y_train, y_pred_train))\n",
        "print('검증세트 F1-score : ', f1_score(y_val, y_pred_val))\n",
        "print('테스트세트 F1-score :', f1_score(y_test, y_pred_test))"
      ],
      "metadata": {
        "colab": {
          "base_uri": "https://localhost:8080/"
        },
        "id": "1qe-IrBzLtKn",
        "outputId": "b60b31ef-4aae-43ac-dd61-8eda3f0c3b1f"
      },
      "execution_count": null,
      "outputs": [
        {
          "output_type": "stream",
          "name": "stdout",
          "text": [
            "훈련세트 정확도 :  1.0\n",
            "검증세트 정확도 :  0.8132838721074015\n",
            "테스트세트 정확도 : 0.8184258866751448\n",
            "--------------------------------------------\n",
            "훈련세트 F1-score :  1.0\n",
            "검증세트 F1-score :  0.7040044805376646\n",
            "테스트세트 F1-score : 0.7125922612390962\n"
          ]
        }
      ]
    },
    {
      "cell_type": "code",
      "source": [
        "from sklearn.metrics import roc_curve\n",
        "from sklearn.metrics import roc_auc_score\n",
        "\n",
        "y_pred_proba = pipe.predict_proba(X_val)[:, -1]\n",
        "print('AUC score: ', roc_auc_score(y_val, y_pred_proba))\n",
        "\n",
        "fpr, tpr, thresholds = roc_curve(y_val, y_pred_proba)\n",
        "\n",
        "plt.style.use('ggplot')\n",
        "\n",
        "plt.scatter(fpr, tpr, color='greenyellow')\n",
        "plt.plot(fpr, tpr, color='darkblue')\n",
        "plt.title('ROC curve')\n",
        "plt.xlabel('FPR')\n",
        "plt.ylabel('TPR')"
      ],
      "metadata": {
        "colab": {
          "base_uri": "https://localhost:8080/",
          "height": 336
        },
        "id": "UlIPW7aJL4AT",
        "outputId": "9c22f7ef-8119-4daf-8dc4-dbc73298c4fc"
      },
      "execution_count": null,
      "outputs": [
        {
          "output_type": "stream",
          "name": "stdout",
          "text": [
            "AUC score:  0.8970747755530055\n"
          ]
        },
        {
          "output_type": "execute_result",
          "data": {
            "text/plain": [
              "Text(0, 0.5, 'TPR')"
            ]
          },
          "metadata": {},
          "execution_count": 27
        },
        {
          "output_type": "display_data",
          "data": {
            "text/plain": [
              "<Figure size 432x288 with 1 Axes>"
            ],
            "image/png": "[encoded data removed]"
          },
          "metadata": {}
        }
      ]
    },
    {
      "cell_type": "code",
      "source": [
        "# 최적의 파라미터 구하기\n",
        "'''\n",
        "from sklearn.model_selection import RandomizedSearchCV\n",
        "from scipy.stats import randint, uniform\n",
        "\n",
        "pipe_CV = make_pipeline( \n",
        "    TargetEncoder(), \n",
        "    SimpleImputer(), \n",
        "    RandomForestClassifier(random_state=42)\n",
        ")\n",
        "\n",
        "dists = {\n",
        "    'targetencoder__smoothing': [2.,20.,50.,60.,100.,500.,1000.],\n",
        "    'targetencoder__min_samples_leaf': randint(1, 10),     \n",
        "    'randomforestclassifier__n_estimators': randint(50, 500), \n",
        "    'randomforestclassifier__max_depth': [5, 10, 15, 20, None], \n",
        "    'randomforestclassifier__max_features': uniform(0, 1)\n",
        "}\n",
        "\n",
        "clf = RandomizedSearchCV(\n",
        "    pipe_CV, \n",
        "    param_distributions=dists, \n",
        "    n_iter=8, \n",
        "    cv=4, \n",
        "    scoring='f1',  \n",
        "    verbose=1,\n",
        "    n_jobs=-1\n",
        ")\n",
        "\n",
        "clf.fit(X_train, y_train);\n",
        "'''"
      ],
      "metadata": {
        "colab": {
          "base_uri": "https://localhost:8080/",
          "height": 72
        },
        "id": "NF3xITb_8m8v",
        "outputId": "22776f6f-70d7-4a31-b9bf-2bf78f0ba69a"
      },
      "execution_count": null,
      "outputs": [
        {
          "output_type": "execute_result",
          "data": {
            "text/plain": [
              "\"\\nfrom sklearn.model_selection import RandomizedSearchCV\\nfrom scipy.stats import randint, uniform\\n\\npipe_CV = make_pipeline( \\n    TargetEncoder(), \\n    SimpleImputer(), \\n    RandomForestClassifier(random_state=42)\\n)\\n\\ndists = {\\n    'targetencoder__smoothing': [2.,20.,50.,60.,100.,500.,1000.],\\n    'targetencoder__min_samples_leaf': randint(1, 10),     \\n    'randomforestclassifier__n_estimators': randint(50, 500), \\n    'randomforestclassifier__max_depth': [5, 10, 15, 20, None], \\n    'randomforestclassifier__max_features': uniform(0, 1)\\n}\\n\\nclf = RandomizedSearchCV(\\n    pipe_CV, \\n    param_distributions=dists, \\n    n_iter=8, \\n    cv=4, \\n    scoring='f1',  \\n    verbose=1,\\n    n_jobs=-1\\n)\\n\\nclf.fit(X_train, y_train);\\n\""
            ],
            "application/vnd.google.colaboratory.intrinsic+json": {
              "type": "string"
            }
          },
          "metadata": {},
          "execution_count": 28
        }
      ]
    },
    {
      "cell_type": "code",
      "source": [
        "#print('최적 하이퍼파라미터: ', clf.best_params_)\n",
        "#print('MAE: ', -clf.best_score_)"
      ],
      "metadata": {
        "id": "EwST73MZ8mpM"
      },
      "execution_count": null,
      "outputs": []
    },
    {
      "cell_type": "code",
      "source": [
        "#pipe_best = clf.best_estimator_"
      ],
      "metadata": {
        "id": "G2MVg9ZS9xtQ"
      },
      "execution_count": null,
      "outputs": []
    },
    {
      "cell_type": "code",
      "source": [
        "#pipe_best.fit(X_train, y_train)\n",
        "#print('검증 정확도: ', pipe_best.score(X_val, y_val))"
      ],
      "metadata": {
        "id": "rStI7yH39xrM"
      },
      "execution_count": null,
      "outputs": []
    },
    {
      "cell_type": "code",
      "source": [
        "#y_pred_proba = pipe_best.predict_proba(X_val)[:, -1]\n",
        "#print('AUC score: ', roc_auc_score(y_val, y_pred_proba))"
      ],
      "metadata": {
        "id": "8qzblBkH9xno"
      },
      "execution_count": null,
      "outputs": []
    },
    {
      "cell_type": "code",
      "source": [
        "# 파이프라인 랜덤포레스트\n",
        "\n",
        "pipe_rf = make_pipeline(\n",
        "    TargetEncoder(min_samples_leaf=5,\n",
        "                  smoothing=50.0), \n",
        "    SimpleImputer(), \n",
        "    RandomForestClassifier(random_state=42,\n",
        "                           max_depth=None,\n",
        "                           max_features=0.6127451630513946,\n",
        "                           n_estimators=482,\n",
        "                           oob_score=True\n",
        "                           )\n",
        ")\n",
        "\n",
        "pipe_rf.fit(X_train, y_train)"
      ],
      "metadata": {
        "colab": {
          "base_uri": "https://localhost:8080/"
        },
        "id": "VlXWPs1OFs54",
        "outputId": "673ecb76-8016-48a8-9805-db83b6c91906"
      },
      "execution_count": null,
      "outputs": [
        {
          "output_type": "execute_result",
          "data": {
            "text/plain": [
              "Pipeline(steps=[('targetencoder',\n",
              "                 TargetEncoder(cols=['gender', 'tartar'], min_samples_leaf=5,\n",
              "                               smoothing=50.0)),\n",
              "                ('simpleimputer', SimpleImputer()),\n",
              "                ('randomforestclassifier',\n",
              "                 RandomForestClassifier(max_features=0.6127451630513946,\n",
              "                                        n_estimators=482, oob_score=True,\n",
              "                                        random_state=42))])"
            ]
          },
          "metadata": {},
          "execution_count": 33
        }
      ]
    },
    {
      "cell_type": "code",
      "source": [
        "from sklearn.metrics import f1_score\n",
        "\n",
        "y_pred_train = pipe_rf.predict(X_train)\n",
        "y_pred_val = pipe_rf.predict(X_val)\n",
        "y_pred_test = pipe_rf.predict(X_test)\n",
        "\n",
        "print('훈련세트 정확도 : ', pipe_rf.score(X_train, y_train))\n",
        "print('검증세트 정확도 : ', pipe_rf.score(X_val, y_val))\n",
        "print('테스트세트 정확도 :', pipe_rf.score(X_test, y_test))\n",
        "print('--------------------------------------------')\n",
        "print('훈련세트 F1-score : ', f1_score(y_train, y_pred_train))\n",
        "print('검증세트 F1-score : ', f1_score(y_val, y_pred_val))\n",
        "print('테스트세트 F1-score :', f1_score(y_test, y_pred_test))"
      ],
      "metadata": {
        "colab": {
          "base_uri": "https://localhost:8080/"
        },
        "id": "mwM_pw0URF6W",
        "outputId": "57e52d3d-bf68-4a50-c965-2f6e02b6dc9e"
      },
      "execution_count": null,
      "outputs": [
        {
          "output_type": "stream",
          "name": "stdout",
          "text": [
            "훈련세트 정확도 :  1.0\n",
            "검증세트 정확도 :  0.8233527645292351\n",
            "테스트세트 정확도 : 0.8192737035467006\n",
            "--------------------------------------------\n",
            "훈련세트 F1-score :  1.0\n",
            "검증세트 F1-score :  0.7234513274336284\n",
            "테스트세트 F1-score : 0.7187156366835278\n"
          ]
        }
      ]
    },
    {
      "cell_type": "code",
      "source": [
        "y_pred_proba = pipe_rf.predict_proba(X_val)[:, -1]\n",
        "print('AUC score: ', roc_auc_score(y_val, y_pred_proba))\n",
        "\n",
        "fpr, tpr, thresholds = roc_curve(y_val, y_pred_proba)\n",
        "\n",
        "plt.style.use('ggplot')\n",
        "\n",
        "plt.scatter(fpr, tpr, color='greenyellow')\n",
        "plt.plot(fpr, tpr, color='darkblue')\n",
        "plt.title('ROC curve')\n",
        "plt.xlabel('FPR')\n",
        "plt.ylabel('TPR')"
      ],
      "metadata": {
        "id": "xnPPMNWh8Jzd",
        "colab": {
          "base_uri": "https://localhost:8080/",
          "height": 336
        },
        "outputId": "a0130c4a-337e-4502-e82c-dfb702b1e6ee"
      },
      "execution_count": null,
      "outputs": [
        {
          "output_type": "stream",
          "name": "stdout",
          "text": [
            "AUC score:  0.8994233212854684\n"
          ]
        },
        {
          "output_type": "execute_result",
          "data": {
            "text/plain": [
              "Text(0, 0.5, 'TPR')"
            ]
          },
          "metadata": {},
          "execution_count": 35
        },
        {
          "output_type": "display_data",
          "data": {
            "text/plain": [
              "<Figure size 432x288 with 1 Axes>"
            ],
            "image/png": "[encoded data removed]"
          },
          "metadata": {}
        }
      ]
    },
    {
      "cell_type": "code",
      "source": [
        "y_pred_test_proba = pipe_rf.predict_proba(X_test)[:, -1]\n",
        "print('AUC score: ', roc_auc_score(y_test, y_pred_test_proba))\n",
        "\n",
        "fpr, tpr, thresholds = roc_curve(y_test, y_pred_test_proba)\n",
        "\n",
        "plt.scatter(fpr, tpr, color='greenyellow')\n",
        "plt.plot(fpr, tpr, color='darkblue')\n",
        "plt.title('ROC curve')\n",
        "plt.xlabel('FPR')\n",
        "plt.ylabel('TPR')"
      ],
      "metadata": {
        "colab": {
          "base_uri": "https://localhost:8080/",
          "height": 336
        },
        "id": "9g4olqsZasQi",
        "outputId": "ee7d557b-c082-4c50-af21-865c6c4c1a53"
      },
      "execution_count": null,
      "outputs": [
        {
          "output_type": "stream",
          "name": "stdout",
          "text": [
            "AUC score:  0.903603027934198\n"
          ]
        },
        {
          "output_type": "execute_result",
          "data": {
            "text/plain": [
              "Text(0, 0.5, 'TPR')"
            ]
          },
          "metadata": {},
          "execution_count": 36
        },
        {
          "output_type": "display_data",
          "data": {
            "text/plain": [
              "<Figure size 432x288 with 1 Axes>"
            ],
            "image/png": "[encoded data removed]"
          },
          "metadata": {}
        }
      ]
    },
    {
      "cell_type": "code",
      "source": [
        "# 파이프라인 트리\n",
        "\n",
        "from sklearn.tree import DecisionTreeClassifier\n",
        "\n",
        "pipe_tr = make_pipeline(\n",
        "    TargetEncoder(min_samples_leaf=5,\n",
        "                  smoothing=50.0), \n",
        "    SimpleImputer(), \n",
        "    DecisionTreeClassifier(random_state=2, \n",
        "                           max_depth=8, \n",
        "                           min_samples_leaf=20\n",
        "                           )\n",
        "                      \n",
        ")\n",
        "\n",
        "pipe_tr.fit(X_train, y_train)"
      ],
      "metadata": {
        "colab": {
          "base_uri": "https://localhost:8080/"
        },
        "id": "6zQcuUYqSVyc",
        "outputId": "3e65efe2-4e51-4854-b230-bd28d26aacac"
      },
      "execution_count": null,
      "outputs": [
        {
          "output_type": "execute_result",
          "data": {
            "text/plain": [
              "Pipeline(steps=[('targetencoder',\n",
              "                 TargetEncoder(cols=['gender', 'tartar'], min_samples_leaf=5,\n",
              "                               smoothing=50.0)),\n",
              "                ('simpleimputer', SimpleImputer()),\n",
              "                ('decisiontreeclassifier',\n",
              "                 DecisionTreeClassifier(max_depth=8, min_samples_leaf=20,\n",
              "                                        random_state=2))])"
            ]
          },
          "metadata": {},
          "execution_count": 37
        }
      ]
    },
    {
      "cell_type": "code",
      "source": [
        "y_pred_train = pipe_tr.predict(X_train)\n",
        "y_pred_val = pipe_tr.predict(X_val)\n",
        "y_pred_test = pipe_tr.predict(X_test)\n",
        "\n",
        "print('훈련세트 정확도 : ', pipe_tr.score(X_train, y_train))\n",
        "print('검증세트 정확도 : ', pipe_tr.score(X_val, y_val))\n",
        "print('테스트세트 정확도 :', pipe_tr.score(X_test, y_test))\n",
        "print('--------------------------------------------')\n",
        "print('훈련세트 F1-score : ', f1_score(y_train, y_pred_train))\n",
        "print('검증세트 F1-score : ', f1_score(y_val, y_pred_val))\n",
        "print('테스트세트 F1-score :', f1_score(y_test, y_pred_test))"
      ],
      "metadata": {
        "colab": {
          "base_uri": "https://localhost:8080/"
        },
        "id": "GkqzWJDESVwc",
        "outputId": "7cae5e8f-23fc-49b5-8b6c-a0c7ea9a6c32"
      },
      "execution_count": null,
      "outputs": [
        {
          "output_type": "stream",
          "name": "stdout",
          "text": [
            "훈련세트 정확도 :  0.772424148743541\n",
            "검증세트 정확도 :  0.7396219749160926\n",
            "테스트세트 정확도 : 0.7456549385332768\n",
            "--------------------------------------------\n",
            "훈련세트 F1-score :  0.6336295769640953\n",
            "검증세트 F1-score :  0.579337899543379\n",
            "테스트세트 F1-score : 0.5927601809954751\n"
          ]
        }
      ]
    },
    {
      "cell_type": "code",
      "source": [
        "y_pred_proba = pipe_tr.predict_proba(X_val)[:, -1]\n",
        "print('AUC score: ', roc_auc_score(y_val, y_pred_proba))\n",
        "\n",
        "fpr, tpr, thresholds = roc_curve(y_val, y_pred_proba)\n",
        "\n",
        "plt.style.use('ggplot')\n",
        "\n",
        "plt.scatter(fpr, tpr, color='greenyellow')\n",
        "plt.plot(fpr, tpr, color='darkblue')\n",
        "plt.title('ROC curve')\n",
        "plt.xlabel('FPR')\n",
        "plt.ylabel('TPR')"
      ],
      "metadata": {
        "colab": {
          "base_uri": "https://localhost:8080/",
          "height": 336
        },
        "id": "n2r0zlErSVuZ",
        "outputId": "99a252dd-8fee-457f-d00d-6b099e3addb4"
      },
      "execution_count": null,
      "outputs": [
        {
          "output_type": "stream",
          "name": "stdout",
          "text": [
            "AUC score:  0.8162674110270196\n"
          ]
        },
        {
          "output_type": "execute_result",
          "data": {
            "text/plain": [
              "Text(0, 0.5, 'TPR')"
            ]
          },
          "metadata": {},
          "execution_count": 39
        },
        {
          "output_type": "display_data",
          "data": {
            "text/plain": [
              "<Figure size 432x288 with 1 Axes>"
            ],
            "image/png": "[encoded data removed]"
          },
          "metadata": {}
        }
      ]
    },
    {
      "cell_type": "code",
      "source": [
        "# 파이프라인 xgb\n",
        "\n",
        "from xgboost import XGBClassifier\n",
        "\n",
        "pipe_xgb = make_pipeline(\n",
        "    TargetEncoder(min_samples_leaf=5,\n",
        "                  smoothing=50.0), \n",
        "    SimpleImputer(), \n",
        "    XGBClassifier(\n",
        "        n_estimators=100,\n",
        "        verbosity=0,\n",
        "        random_state=2, \n",
        "        n_jobs=-1,\n",
        "        max_depth=7,\n",
        "        learning_rate=0.2\n",
        "        )\n",
        "                      \n",
        ")\n",
        "\n",
        "pipe_xgb.fit(X_train, y_train)"
      ],
      "metadata": {
        "colab": {
          "base_uri": "https://localhost:8080/"
        },
        "id": "VTMLSA2NS4WE",
        "outputId": "0a667ef5-ccc3-42cc-d87f-d754f6ae72ef"
      },
      "execution_count": null,
      "outputs": [
        {
          "output_type": "execute_result",
          "data": {
            "text/plain": [
              "Pipeline(steps=[('targetencoder',\n",
              "                 TargetEncoder(cols=['gender', 'tartar'], min_samples_leaf=5,\n",
              "                               smoothing=50.0)),\n",
              "                ('simpleimputer', SimpleImputer()),\n",
              "                ('xgbclassifier',\n",
              "                 XGBClassifier(learning_rate=0.2, max_depth=7, n_jobs=-1,\n",
              "                               random_state=2, verbosity=0))])"
            ]
          },
          "metadata": {},
          "execution_count": 40
        }
      ]
    },
    {
      "cell_type": "code",
      "source": [
        "y_pred_train = pipe_xgb.predict(X_train)\n",
        "y_pred_val = pipe_xgb.predict(X_val)\n",
        "y_pred_test = pipe_xgb.predict(X_test)\n",
        "\n",
        "print('훈련세트 정확도 : ', pipe_xgb.score(X_train, y_train))\n",
        "print('검증세트 정확도 : ', pipe_xgb.score(X_val, y_val))\n",
        "print('테스트세트 정확도 :', pipe_xgb.score(X_test, y_test))\n",
        "print('--------------------------------------------')\n",
        "print('훈련세트 F1-score : ', f1_score(y_train, y_pred_train))\n",
        "print('검증세트 F1-score : ', f1_score(y_val, y_pred_val))\n",
        "print('테스트세트 F1-score :', f1_score(y_test, y_pred_test))"
      ],
      "metadata": {
        "colab": {
          "base_uri": "https://localhost:8080/"
        },
        "id": "najFBgxmS4Pk",
        "outputId": "97b7ccd6-195f-46fb-fb40-541a18854018"
      },
      "execution_count": null,
      "outputs": [
        {
          "output_type": "stream",
          "name": "stdout",
          "text": [
            "훈련세트 정확도 :  0.9216534911451663\n",
            "검증세트 정확도 :  0.7910263204380852\n",
            "테스트세트 정확도 : 0.7992087042532147\n",
            "--------------------------------------------\n",
            "훈련세트 F1-score :  0.8777226357871518\n",
            "검증세트 F1-score :  0.6727524204702627\n",
            "테스트세트 F1-score : 0.68568900685689\n"
          ]
        }
      ]
    },
    {
      "cell_type": "code",
      "source": [
        "y_pred_proba = pipe_xgb.predict_proba(X_val)[:, -1]\n",
        "print('AUC score: ', roc_auc_score(y_val, y_pred_proba))\n",
        "\n",
        "fpr, tpr, thresholds = roc_curve(y_val, y_pred_proba)\n",
        "\n",
        "plt.style.use('ggplot')\n",
        "\n",
        "plt.scatter(fpr, tpr, color='greenyellow')\n",
        "plt.plot(fpr, tpr, color='darkblue')\n",
        "plt.title('ROC curve')\n",
        "plt.xlabel('FPR')\n",
        "plt.ylabel('TPR')"
      ],
      "metadata": {
        "colab": {
          "base_uri": "https://localhost:8080/",
          "height": 336
        },
        "id": "k2uyy3QLS4H0",
        "outputId": "62391137-e1b0-4f26-940f-27787f8712a2"
      },
      "execution_count": null,
      "outputs": [
        {
          "output_type": "stream",
          "name": "stdout",
          "text": [
            "AUC score:  0.8643302977298155\n"
          ]
        },
        {
          "output_type": "execute_result",
          "data": {
            "text/plain": [
              "Text(0, 0.5, 'TPR')"
            ]
          },
          "metadata": {},
          "execution_count": 42
        },
        {
          "output_type": "display_data",
          "data": {
            "text/plain": [
              "<Figure size 432x288 with 1 Axes>"
            ],
            "image/png": "[encoded data removed]"
          },
          "metadata": {}
        }
      ]
    },
    {
      "cell_type": "code",
      "source": [
        "rf = pipe.named_steps['randomforestclassifier']\n",
        "importances = pd.Series(rf.feature_importances_, X_train.columns)\n",
        "\n",
        "n = 19\n",
        "plt.figure(figsize=(10,n/2))\n",
        "plt.title('feature importance')\n",
        "importances.sort_values()[-n:].plot.barh();"
      ],
      "metadata": {
        "colab": {
          "base_uri": "https://localhost:8080/",
          "height": 581
        },
        "id": "UnUdH4CHCQLh",
        "outputId": "7457c86d-662a-4a7b-e69c-ab2abc9f1e75"
      },
      "execution_count": null,
      "outputs": [
        {
          "output_type": "display_data",
          "data": {
            "text/plain": [
              "<Figure size 720x684 with 1 Axes>"
            ],
            "image/png": "[encoded data removed]"
          },
          "metadata": {}
        }
      ]
    },
    {
      "cell_type": "code",
      "source": [
        "!pip install eli5\n",
        "import eli5\n",
        "from eli5.sklearn import PermutationImportance"
      ],
      "metadata": {
        "id": "zD83TLNkKsQr",
        "colab": {
          "base_uri": "https://localhost:8080/",
          "height": 678
        },
        "outputId": "0755bc7a-0415-4fdd-8d0d-913142e8c5eb"
      },
      "execution_count": null,
      "outputs": [
        {
          "output_type": "stream",
          "name": "stdout",
          "text": [
            "Collecting eli5\n",
            "  Downloading eli5-0.13.0.tar.gz (216 kB)\n",
            "\u001b[K     |████████████████████████████████| 216 kB 10.5 MB/s \n",
            "\u001b[?25hRequirement already satisfied: attrs>17.1.0 in /usr/local/lib/python3.7/dist-packages (from eli5) (21.4.0)\n",
            "Collecting jinja2>=3.0.0\n",
            "  Downloading Jinja2-3.1.2-py3-none-any.whl (133 kB)\n",
            "\u001b[K     |████████████████████████████████| 133 kB 53.3 MB/s \n",
            "\u001b[?25hRequirement already satisfied: numpy>=1.9.0 in /usr/local/lib/python3.7/dist-packages (from eli5) (1.21.6)\n",
            "Requirement already satisfied: scipy in /usr/local/lib/python3.7/dist-packages (from eli5) (1.7.3)\n",
            "Requirement already satisfied: six in /usr/local/lib/python3.7/dist-packages (from eli5) (1.15.0)\n",
            "Requirement already satisfied: scikit-learn>=0.20 in /usr/local/lib/python3.7/dist-packages (from eli5) (1.0.2)\n",
            "Requirement already satisfied: graphviz in /usr/local/lib/python3.7/dist-packages (from eli5) (0.10.1)\n",
            "Requirement already satisfied: tabulate>=0.7.7 in /usr/local/lib/python3.7/dist-packages (from eli5) (0.8.9)\n",
            "Requirement already satisfied: MarkupSafe>=2.0 in /usr/local/lib/python3.7/dist-packages (from jinja2>=3.0.0->eli5) (2.0.1)\n",
            "Requirement already satisfied: threadpoolctl>=2.0.0 in /usr/local/lib/python3.7/dist-packages (from scikit-learn>=0.20->eli5) (3.1.0)\n",
            "Requirement already satisfied: joblib>=0.11 in /usr/local/lib/python3.7/dist-packages (from scikit-learn>=0.20->eli5) (1.0.1)\n",
            "Building wheels for collected packages: eli5\n",
            "  Building wheel for eli5 (setup.py) ... \u001b[?25l\u001b[?25hdone\n",
            "  Created wheel for eli5: filename=eli5-0.13.0-py2.py3-none-any.whl size=107748 sha256=1090319004cd73334be289218c688da2a13a5a34aca8b10481ad2804ff1056c3\n",
            "  Stored in directory: /root/.cache/pip/wheels/cc/3c/96/3ead31a8e6c20fc0f1a707fde2e05d49a80b1b4b30096573be\n",
            "Successfully built eli5\n",
            "Installing collected packages: jinja2, eli5\n",
            "  Attempting uninstall: jinja2\n",
            "    Found existing installation: Jinja2 2.11.3\n",
            "    Uninstalling Jinja2-2.11.3:\n",
            "      Successfully uninstalled Jinja2-2.11.3\n",
            "\u001b[31mERROR: pip's dependency resolver does not currently take into account all the packages that are installed. This behaviour is the source of the following dependency conflicts.\n",
            "google-colab 1.0.0 requires requests~=2.23.0, but you have requests 2.27.1 which is incompatible.\n",
            "flask 1.1.4 requires Jinja2<3.0,>=2.10.1, but you have jinja2 3.1.2 which is incompatible.\n",
            "datascience 0.10.6 requires folium==0.2.1, but you have folium 0.8.3 which is incompatible.\u001b[0m\n",
            "Successfully installed eli5-0.13.0 jinja2-3.1.2\n"
          ]
        },
        {
          "output_type": "display_data",
          "data": {
            "application/vnd.colab-display-data+json": {
              "pip_warning": {
                "packages": [
                  "jinja2"
                ]
              }
            }
          },
          "metadata": {}
        }
      ]
    },
    {
      "cell_type": "code",
      "source": [
        "from sklearn.pipeline import Pipeline\n",
        "\n",
        "pipe_p = Pipeline([\n",
        "    ('preprocessing', TargetEncoder(min_samples_leaf=5, smoothing=50.0)),\n",
        "    ('rf', RandomForestClassifier(random_state=42,\n",
        "                           max_depth=None,\n",
        "                           max_features=0.6127451630513946,\n",
        "                           n_estimators=482)\n",
        "    )\n",
        "])\n",
        "\n",
        "pipe_p.fit(X_train, y_train)"
      ],
      "metadata": {
        "id": "8LiAEpDbKsOs",
        "colab": {
          "base_uri": "https://localhost:8080/"
        },
        "outputId": "b2e61fc0-e824-464a-9685-b1042a59149a"
      },
      "execution_count": null,
      "outputs": [
        {
          "output_type": "execute_result",
          "data": {
            "text/plain": [
              "Pipeline(steps=[('preprocessing',\n",
              "                 TargetEncoder(cols=['gender', 'tartar'], min_samples_leaf=5,\n",
              "                               smoothing=50.0)),\n",
              "                ('rf',\n",
              "                 RandomForestClassifier(max_features=0.6127451630513946,\n",
              "                                        n_estimators=482, random_state=42))])"
            ]
          },
          "metadata": {},
          "execution_count": 45
        }
      ]
    },
    {
      "cell_type": "code",
      "source": [
        "permuter = PermutationImportance(pipe_p.named_steps['rf'],\n",
        "                                scoring='accuracy',\n",
        "                                n_iter=5,\n",
        "                                random_state=2,\n",
        "                                )\n",
        "\n",
        "X_val_transformed = pipe_p.named_steps['preprocessing'].transform(X_val)\n",
        "\n",
        "permuter.fit(X_val_transformed, y_val)"
      ],
      "metadata": {
        "id": "u4_B3rdpZ0xf",
        "colab": {
          "base_uri": "https://localhost:8080/"
        },
        "outputId": "436dd2dd-8975-4724-f1a8-fa75a88ccbd8"
      },
      "execution_count": null,
      "outputs": [
        {
          "output_type": "execute_result",
          "data": {
            "text/plain": [
              "PermutationImportance(estimator=RandomForestClassifier(max_features=0.6127451630513946,\n",
              "                                                       n_estimators=482,\n",
              "                                                       random_state=42),\n",
              "                      random_state=2, scoring='accuracy')"
            ]
          },
          "metadata": {},
          "execution_count": 46
        }
      ]
    },
    {
      "cell_type": "code",
      "source": [
        "# 변수 중요도\n",
        "\n",
        "feature_names = df.columns[:-1].tolist()\n",
        "\n",
        "eli5.show_weights(\n",
        "    permuter, \n",
        "    top=None, # top n 지정 가능, None 일 경우 모든 특성\n",
        "    feature_names=feature_names\n",
        "    )"
      ],
      "metadata": {
        "id": "_6daCDdvPH6k",
        "colab": {
          "base_uri": "https://localhost:8080/",
          "height": 364
        },
        "outputId": "bbbc0ce9-770e-4e82-ff45-773f2a2b6807"
      },
      "execution_count": null,
      "outputs": [
        {
          "output_type": "execute_result",
          "data": {
            "text/plain": [
              "<IPython.core.display.HTML object>"
            ],
            "text/html": [
              "\n",
              "    <style>\n",
              "    table.eli5-weights tr:hover {\n",
              "        filter: brightness(85%);\n",
              "    }\n",
              "</style>\n",
              "\n",
              "\n",
              "\n",
              "    \n",
              "\n",
              "    \n",
              "\n",
              "    \n",
              "\n",
              "    \n",
              "\n",
              "    \n",
              "\n",
              "    \n",
              "\n",
              "\n",
              "    \n",
              "\n",
              "    \n",
              "\n",
              "    \n",
              "\n",
              "    \n",
              "\n",
              "    \n",
              "\n",
              "    \n",
              "\n",
              "\n",
              "    \n",
              "\n",
              "    \n",
              "\n",
              "    \n",
              "\n",
              "    \n",
              "\n",
              "    \n",
              "        <table class=\"eli5-weights eli5-feature-importances\" style=\"border-collapse: collapse; border: none; margin-top: 0em; table-layout: auto;\">\n",
              "    <thead>\n",
              "    <tr style=\"border: none;\">\n",
              "        <th style=\"padding: 0 1em 0 0.5em; text-align: right; border: none;\">Weight</th>\n",
              "        <th style=\"padding: 0 0.5em 0 0.5em; text-align: left; border: none;\">Feature</th>\n",
              "    </tr>\n",
              "    </thead>\n",
              "    <tbody>\n",
              "    \n",
              "        <tr style=\"background-color: hsl(120, 100.00%, 80.00%); border: none;\">\n",
              "            <td style=\"padding: 0 1em 0 0.5em; text-align: right; border: none;\">\n",
              "                0.1577\n",
              "                \n",
              "                    &plusmn; 0.0095\n",
              "                \n",
              "            </td>\n",
              "            <td style=\"padding: 0 0.5em 0 0.5em; text-align: left; border: none;\">\n",
              "                gender\n",
              "            </td>\n",
              "        </tr>\n",
              "    \n",
              "        <tr style=\"background-color: hsl(120, 100.00%, 89.37%); border: none;\">\n",
              "            <td style=\"padding: 0 1em 0 0.5em; text-align: right; border: none;\">\n",
              "                0.0639\n",
              "                \n",
              "                    &plusmn; 0.0054\n",
              "                \n",
              "            </td>\n",
              "            <td style=\"padding: 0 0.5em 0 0.5em; text-align: left; border: none;\">\n",
              "                Gtp\n",
              "            </td>\n",
              "        </tr>\n",
              "    \n",
              "        <tr style=\"background-color: hsl(120, 100.00%, 93.43%); border: none;\">\n",
              "            <td style=\"padding: 0 1em 0 0.5em; text-align: right; border: none;\">\n",
              "                0.0321\n",
              "                \n",
              "                    &plusmn; 0.0103\n",
              "                \n",
              "            </td>\n",
              "            <td style=\"padding: 0 0.5em 0 0.5em; text-align: left; border: none;\">\n",
              "                triglyceride\n",
              "            </td>\n",
              "        </tr>\n",
              "    \n",
              "        <tr style=\"background-color: hsl(120, 100.00%, 94.46%); border: none;\">\n",
              "            <td style=\"padding: 0 1em 0 0.5em; text-align: right; border: none;\">\n",
              "                0.0252\n",
              "                \n",
              "                    &plusmn; 0.0085\n",
              "                \n",
              "            </td>\n",
              "            <td style=\"padding: 0 0.5em 0 0.5em; text-align: left; border: none;\">\n",
              "                age\n",
              "            </td>\n",
              "        </tr>\n",
              "    \n",
              "        <tr style=\"background-color: hsl(120, 100.00%, 94.88%); border: none;\">\n",
              "            <td style=\"padding: 0 1em 0 0.5em; text-align: right; border: none;\">\n",
              "                0.0225\n",
              "                \n",
              "                    &plusmn; 0.0069\n",
              "                \n",
              "            </td>\n",
              "            <td style=\"padding: 0 0.5em 0 0.5em; text-align: left; border: none;\">\n",
              "                ALT\n",
              "            </td>\n",
              "        </tr>\n",
              "    \n",
              "        <tr style=\"background-color: hsl(120, 100.00%, 95.86%); border: none;\">\n",
              "            <td style=\"padding: 0 1em 0 0.5em; text-align: right; border: none;\">\n",
              "                0.0166\n",
              "                \n",
              "                    &plusmn; 0.0059\n",
              "                \n",
              "            </td>\n",
              "            <td style=\"padding: 0 0.5em 0 0.5em; text-align: left; border: none;\">\n",
              "                hemoglobin\n",
              "            </td>\n",
              "        </tr>\n",
              "    \n",
              "        <tr style=\"background-color: hsl(120, 100.00%, 97.42%); border: none;\">\n",
              "            <td style=\"padding: 0 1em 0 0.5em; text-align: right; border: none;\">\n",
              "                0.0084\n",
              "                \n",
              "                    &plusmn; 0.0029\n",
              "                \n",
              "            </td>\n",
              "            <td style=\"padding: 0 0.5em 0 0.5em; text-align: left; border: none;\">\n",
              "                AST\n",
              "            </td>\n",
              "        </tr>\n",
              "    \n",
              "        <tr style=\"background-color: hsl(120, 100.00%, 97.43%); border: none;\">\n",
              "            <td style=\"padding: 0 1em 0 0.5em; text-align: right; border: none;\">\n",
              "                0.0084\n",
              "                \n",
              "                    &plusmn; 0.0054\n",
              "                \n",
              "            </td>\n",
              "            <td style=\"padding: 0 0.5em 0 0.5em; text-align: left; border: none;\">\n",
              "                serum creatinine\n",
              "            </td>\n",
              "        </tr>\n",
              "    \n",
              "        <tr style=\"background-color: hsl(120, 100.00%, 97.56%); border: none;\">\n",
              "            <td style=\"padding: 0 1em 0 0.5em; text-align: right; border: none;\">\n",
              "                0.0078\n",
              "                \n",
              "                    &plusmn; 0.0034\n",
              "                \n",
              "            </td>\n",
              "            <td style=\"padding: 0 0.5em 0 0.5em; text-align: left; border: none;\">\n",
              "                systolic\n",
              "            </td>\n",
              "        </tr>\n",
              "    \n",
              "        <tr style=\"background-color: hsl(120, 100.00%, 97.75%); border: none;\">\n",
              "            <td style=\"padding: 0 1em 0 0.5em; text-align: right; border: none;\">\n",
              "                0.0070\n",
              "                \n",
              "                    &plusmn; 0.0030\n",
              "                \n",
              "            </td>\n",
              "            <td style=\"padding: 0 0.5em 0 0.5em; text-align: left; border: none;\">\n",
              "                tartar\n",
              "            </td>\n",
              "        </tr>\n",
              "    \n",
              "        <tr style=\"background-color: hsl(120, 100.00%, 97.95%); border: none;\">\n",
              "            <td style=\"padding: 0 1em 0 0.5em; text-align: right; border: none;\">\n",
              "                0.0061\n",
              "                \n",
              "                    &plusmn; 0.0037\n",
              "                \n",
              "            </td>\n",
              "            <td style=\"padding: 0 0.5em 0 0.5em; text-align: left; border: none;\">\n",
              "                LDL\n",
              "            </td>\n",
              "        </tr>\n",
              "    \n",
              "        <tr style=\"background-color: hsl(120, 100.00%, 98.10%); border: none;\">\n",
              "            <td style=\"padding: 0 1em 0 0.5em; text-align: right; border: none;\">\n",
              "                0.0055\n",
              "                \n",
              "                    &plusmn; 0.0026\n",
              "                \n",
              "            </td>\n",
              "            <td style=\"padding: 0 0.5em 0 0.5em; text-align: left; border: none;\">\n",
              "                fasting blood sugar\n",
              "            </td>\n",
              "        </tr>\n",
              "    \n",
              "        <tr style=\"background-color: hsl(120, 100.00%, 98.13%); border: none;\">\n",
              "            <td style=\"padding: 0 1em 0 0.5em; text-align: right; border: none;\">\n",
              "                0.0053\n",
              "                \n",
              "                    &plusmn; 0.0045\n",
              "                \n",
              "            </td>\n",
              "            <td style=\"padding: 0 0.5em 0 0.5em; text-align: left; border: none;\">\n",
              "                relaxation\n",
              "            </td>\n",
              "        </tr>\n",
              "    \n",
              "        <tr style=\"background-color: hsl(120, 100.00%, 98.28%); border: none;\">\n",
              "            <td style=\"padding: 0 1em 0 0.5em; text-align: right; border: none;\">\n",
              "                0.0047\n",
              "                \n",
              "                    &plusmn; 0.0021\n",
              "                \n",
              "            </td>\n",
              "            <td style=\"padding: 0 0.5em 0 0.5em; text-align: left; border: none;\">\n",
              "                Cholesterol\n",
              "            </td>\n",
              "        </tr>\n",
              "    \n",
              "        <tr style=\"background-color: hsl(120, 100.00%, 98.35%); border: none;\">\n",
              "            <td style=\"padding: 0 1em 0 0.5em; text-align: right; border: none;\">\n",
              "                0.0045\n",
              "                \n",
              "                    &plusmn; 0.0018\n",
              "                \n",
              "            </td>\n",
              "            <td style=\"padding: 0 0.5em 0 0.5em; text-align: left; border: none;\">\n",
              "                dental caries\n",
              "            </td>\n",
              "        </tr>\n",
              "    \n",
              "        <tr style=\"background-color: hsl(120, 100.00%, 98.44%); border: none;\">\n",
              "            <td style=\"padding: 0 1em 0 0.5em; text-align: right; border: none;\">\n",
              "                0.0041\n",
              "                \n",
              "                    &plusmn; 0.0033\n",
              "                \n",
              "            </td>\n",
              "            <td style=\"padding: 0 0.5em 0 0.5em; text-align: left; border: none;\">\n",
              "                HDL\n",
              "            </td>\n",
              "        </tr>\n",
              "    \n",
              "        <tr style=\"background-color: hsl(120, 100.00%, 98.64%); border: none;\">\n",
              "            <td style=\"padding: 0 1em 0 0.5em; text-align: right; border: none;\">\n",
              "                0.0034\n",
              "                \n",
              "                    &plusmn; 0.0018\n",
              "                \n",
              "            </td>\n",
              "            <td style=\"padding: 0 0.5em 0 0.5em; text-align: left; border: none;\">\n",
              "                eyesight\n",
              "            </td>\n",
              "        </tr>\n",
              "    \n",
              "        <tr style=\"background-color: hsl(120, 100.00%, 99.56%); border: none;\">\n",
              "            <td style=\"padding: 0 1em 0 0.5em; text-align: right; border: none;\">\n",
              "                0.0007\n",
              "                \n",
              "                    &plusmn; 0.0004\n",
              "                \n",
              "            </td>\n",
              "            <td style=\"padding: 0 0.5em 0 0.5em; text-align: left; border: none;\">\n",
              "                hearing\n",
              "            </td>\n",
              "        </tr>\n",
              "    \n",
              "        <tr style=\"background-color: hsl(120, 100.00%, 99.58%); border: none;\">\n",
              "            <td style=\"padding: 0 1em 0 0.5em; text-align: right; border: none;\">\n",
              "                0.0006\n",
              "                \n",
              "                    &plusmn; 0.0005\n",
              "                \n",
              "            </td>\n",
              "            <td style=\"padding: 0 0.5em 0 0.5em; text-align: left; border: none;\">\n",
              "                Urine protein\n",
              "            </td>\n",
              "        </tr>\n",
              "    \n",
              "    \n",
              "    </tbody>\n",
              "</table>\n",
              "    \n",
              "\n",
              "    \n",
              "\n",
              "\n",
              "    \n",
              "\n",
              "    \n",
              "\n",
              "    \n",
              "\n",
              "    \n",
              "\n",
              "    \n",
              "\n",
              "    \n",
              "\n",
              "\n",
              "\n"
            ]
          },
          "metadata": {},
          "execution_count": 47
        }
      ]
    }
  ]
}